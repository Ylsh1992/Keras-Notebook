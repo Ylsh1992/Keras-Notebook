{
 "cells": [
  {
   "cell_type": "markdown",
   "metadata": {},
   "source": [
    "# Regression example"
   ]
  },
  {
   "cell_type": "code",
   "execution_count": 13,
   "metadata": {},
   "outputs": [],
   "source": [
    "import numpy as np\n",
    "import keras\n",
    "import matplotlib.pyplot as plt\n",
    "from keras.models import Sequential   # build neural network layers sequentially. 1st layer, 2nd layer.......\n",
    "from keras.layers import Dense   # \n",
    "np.random.seed(42)   # reproducibility"
   ]
  },
  {
   "cell_type": "markdown",
   "metadata": {},
   "source": [
    "## create some data"
   ]
  },
  {
   "cell_type": "code",
   "execution_count": 14,
   "metadata": {},
   "outputs": [
    {
     "data": {
      "image/png": "[encoded data removed]",
      "text/plain": [
       "<Figure size 432x288 with 1 Axes>"
      ]
     },
     "metadata": {
      "needs_background": "light"
     },
     "output_type": "display_data"
    }
   ],
   "source": [
    "X = np.linspace(-1,1,200)\n",
    "np.random.shuffle(X)   # randomize the data\n",
    "Y=0.5*X+2+np.random.normal(0,0.05,(200,))   # weight is 0.5, bias is 2\n",
    "# Y=0.5*X+2\n",
    "# plot data\n",
    "plt.scatter(X,Y)\n",
    "plt.show()\n",
    "\n",
    "X_train, Y_train = X[:160], Y[:160]   # 0 - 160 data points\n",
    "X_test, Y_test = X[160:], Y[160:]   # 160-200 data points"
   ]
  },
  {
   "cell_type": "markdown",
   "metadata": {},
   "source": [
    "## build a neural network from the 1st layer to the last layer "
   ]
  },
  {
   "cell_type": "code",
   "execution_count": 19,
   "metadata": {},
   "outputs": [
    {
     "name": "stderr",
     "output_type": "stream",
     "text": [
      "/Library/Frameworks/Python.framework/Versions/3.7/lib/python3.7/site-packages/ipykernel_launcher.py:2: UserWarning: Update your `Dense` call to the Keras 2 API: `Dense(input_dim=1, units=1)`\n",
      "  \n"
     ]
    }
   ],
   "source": [
    "model = Sequential()\n",
    "model.add(Dense(output_dim=1, input_dim=1))\n",
    "\n",
    "# choose loss function and optimizing method\n",
    "\n",
    "model.compile(loss='mse', optimizer='sgd')"
   ]
  },
  {
   "cell_type": "markdown",
   "metadata": {},
   "source": [
    "## training"
   ]
  },
  {
   "cell_type": "code",
   "execution_count": 23,
   "metadata": {},
   "outputs": [
    {
     "name": "stdout",
     "output_type": "stream",
     "text": [
      "Training ----------\n",
      "train cost: 0.015958628\n",
      "train cost: 0.005876592\n",
      "train cost: 0.003263859\n",
      "train cost: 0.0025856313\n"
     ]
    }
   ],
   "source": [
    "print('Training ----------')\n",
    "for step in range(301):\n",
    "    cost = model.train_on_batch(X_train,Y_train)\n",
    "    if step % 100 ==0:\n",
    "        print('train cost:', cost)"
   ]
  },
  {
   "cell_type": "markdown",
   "metadata": {},
   "source": [
    "## test "
   ]
  },
  {
   "cell_type": "code",
   "execution_count": 24,
   "metadata": {},
   "outputs": [
    {
     "name": "stdout",
     "output_type": "stream",
     "text": [
      "Test -----------\n",
      "40/40 [==============================] - 0s 86us/step\n",
      "test cost: 0.0025744086015038192\n",
      "Weights= [[0.4595167]] \n",
      "biases= [2.0079703]\n"
     ]
    }
   ],
   "source": [
    "print('Test -----------')\n",
    "cost = model.evaluate(X_test,Y_test,batch_size=10)\n",
    "print('test cost:', cost)\n",
    "W,b = model.layers[0].get_weights()\n",
    "print('Weights=',W,'\\nbiases=',b)"
   ]
  },
  {
   "cell_type": "markdown",
   "metadata": {},
   "source": [
    "## plotting the prediction "
   ]
  },
  {
   "cell_type": "code",
   "execution_count": 25,
   "metadata": {},
   "outputs": [
    {
     "data": {
      "image/png": "[encoded data removed]",
      "text/plain": [
       "<Figure size 432x288 with 1 Axes>"
      ]
     },
     "metadata": {
      "needs_background": "light"
     },
     "output_type": "display_data"
    }
   ],
   "source": [
    "Y_pred = model.predict(X_test)\n",
    "plt.scatter(X_test,Y_test)\n",
    "plt.plot(X_test,Y_pred)\n",
    "plt.show()"
   ]
  },
  {
   "cell_type": "code",
   "execution_count": null,
   "metadata": {},
   "outputs": [],
   "source": []
  }
 ],
 "metadata": {
  "kernelspec": {
   "display_name": "Python 3",
   "language": "python",
   "name": "python3"
  },
  "language_info": {
   "codemirror_mode": {
    "name": "ipython",
    "version": 3
   },
   "file_extension": ".py",
   "mimetype": "text/x-python",
   "name": "python",
   "nbconvert_exporter": "python",
   "pygments_lexer": "ipython3",
   "version": "3.7.3"
  }
 },
 "nbformat": 4,
 "nbformat_minor": 2
}
